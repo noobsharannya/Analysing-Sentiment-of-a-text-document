{
 "cells": [
  {
   "cell_type": "code",
   "execution_count": 265,
   "id": "0658274e",
   "metadata": {},
   "outputs": [],
   "source": [
    "import pandas as pd"
   ]
  },
  {
   "cell_type": "code",
   "execution_count": 266,
   "id": "31f43eff",
   "metadata": {},
   "outputs": [],
   "source": [
    "df1=pd.read_csv(\"Tweets.csv\")\n",
    "df2=pd.read_csv(\"Reviews.tsv\",sep='\\t', header=0,on_bad_lines='skip', low_memory=False)"
   ]
  },
  {
   "cell_type": "code",
   "execution_count": 267,
   "id": "3bfd72db",
   "metadata": {},
   "outputs": [],
   "source": [
    "df1['sentiment'] = df1['sentiment'].map({\"neutral\": 0, \"positive\": 1, \"negative\": -1})\n",
    "df1.drop(columns=['textID', 'selected_text'], inplace=True)"
   ]
  },
  {
   "cell_type": "code",
   "execution_count": 268,
   "id": "35392c7f",
   "metadata": {},
   "outputs": [],
   "source": [
    "df2=df2[['review_body','star_rating']]\n",
    "df2=df2.rename(columns={'review_body':'text','star_rating':'sentiment'})"
   ]
  },
  {
   "cell_type": "code",
   "execution_count": 269,
   "id": "76992db5",
   "metadata": {},
   "outputs": [
    {
     "data": {
      "text/plain": [
       "str"
      ]
     },
     "execution_count": 269,
     "metadata": {},
     "output_type": "execute_result"
    }
   ],
   "source": [
    "type(df2['sentiment'][0])"
   ]
  },
  {
   "cell_type": "code",
   "execution_count": 270,
   "id": "85cc9ef2",
   "metadata": {},
   "outputs": [],
   "source": [
    "def change(s):\n",
    "    x=int(s)\n",
    "    if(x==3):\n",
    "        return 0\n",
    "    if(x<3):\n",
    "        return -1\n",
    "    return 1\n",
    "df2=df2.dropna(subset=['sentiment'])\n",
    "df2=df2.dropna(subset=['text'])\n",
    "df2['sentiment'] = df2['sentiment'].apply(lambda x:change(x))"
   ]
  },
  {
   "cell_type": "code",
   "execution_count": 271,
   "id": "ffacc35d",
   "metadata": {},
   "outputs": [],
   "source": [
    "df=pd.concat([df1,df2])"
   ]
  },
  {
   "cell_type": "code",
   "execution_count": 272,
   "id": "d67ad3ff",
   "metadata": {},
   "outputs": [
    {
     "data": {
      "text/plain": [
       " 1    1359877\n",
       "-1     263580\n",
       " 0     170772\n",
       "Name: sentiment, dtype: int64"
      ]
     },
     "execution_count": 272,
     "metadata": {},
     "output_type": "execute_result"
    }
   ],
   "source": [
    "df['sentiment'].value_counts()"
   ]
  },
  {
   "cell_type": "code",
   "execution_count": 273,
   "id": "a8d520ab",
   "metadata": {},
   "outputs": [],
   "source": [
    "n=df.shape[0]"
   ]
  },
  {
   "cell_type": "code",
   "execution_count": 274,
   "id": "96df5601",
   "metadata": {},
   "outputs": [],
   "source": [
    "df['preprocess']=df['text'].apply(lambda x:''.join(i for i in str(x) if not i.isdigit()))"
   ]
  },
  {
   "cell_type": "code",
   "execution_count": 275,
   "id": "cd0bf1f5",
   "metadata": {},
   "outputs": [],
   "source": [
    "df['preprocess']=df['preprocess'].apply(lambda x:x.lower())"
   ]
  },
  {
   "cell_type": "code",
   "execution_count": 276,
   "id": "87863da2",
   "metadata": {},
   "outputs": [
    {
     "data": {
      "text/html": [
       "<div>\n",
       "<style scoped>\n",
       "    .dataframe tbody tr th:only-of-type {\n",
       "        vertical-align: middle;\n",
       "    }\n",
       "\n",
       "    .dataframe tbody tr th {\n",
       "        vertical-align: top;\n",
       "    }\n",
       "\n",
       "    .dataframe thead th {\n",
       "        text-align: right;\n",
       "    }\n",
       "</style>\n",
       "<table border=\"1\" class=\"dataframe\">\n",
       "  <thead>\n",
       "    <tr style=\"text-align: right;\">\n",
       "      <th></th>\n",
       "      <th>text</th>\n",
       "      <th>sentiment</th>\n",
       "      <th>preprocess</th>\n",
       "    </tr>\n",
       "  </thead>\n",
       "  <tbody>\n",
       "    <tr>\n",
       "      <th>0</th>\n",
       "      <td>I`d have responded, if I were going</td>\n",
       "      <td>0</td>\n",
       "      <td>i`d have responded, if i were going</td>\n",
       "    </tr>\n",
       "    <tr>\n",
       "      <th>1</th>\n",
       "      <td>Sooo SAD I will miss you here in San Diego!!!</td>\n",
       "      <td>-1</td>\n",
       "      <td>sooo sad i will miss you here in san diego!!!</td>\n",
       "    </tr>\n",
       "    <tr>\n",
       "      <th>2</th>\n",
       "      <td>my boss is bullying me...</td>\n",
       "      <td>-1</td>\n",
       "      <td>my boss is bullying me...</td>\n",
       "    </tr>\n",
       "    <tr>\n",
       "      <th>3</th>\n",
       "      <td>what interview! leave me alone</td>\n",
       "      <td>-1</td>\n",
       "      <td>what interview! leave me alone</td>\n",
       "    </tr>\n",
       "    <tr>\n",
       "      <th>4</th>\n",
       "      <td>Sons of ****, why couldn`t they put them on t...</td>\n",
       "      <td>-1</td>\n",
       "      <td>sons of ****, why couldn`t they put them on t...</td>\n",
       "    </tr>\n",
       "    <tr>\n",
       "      <th>...</th>\n",
       "      <td>...</td>\n",
       "      <td>...</td>\n",
       "      <td>...</td>\n",
       "    </tr>\n",
       "    <tr>\n",
       "      <th>1766987</th>\n",
       "      <td>It is nice looking and everything (it is sterl...</td>\n",
       "      <td>1</td>\n",
       "      <td>it is nice looking and everything (it is sterl...</td>\n",
       "    </tr>\n",
       "    <tr>\n",
       "      <th>1766988</th>\n",
       "      <td>my boyfriend bought me this last christmas, an...</td>\n",
       "      <td>1</td>\n",
       "      <td>my boyfriend bought me this last christmas, an...</td>\n",
       "    </tr>\n",
       "    <tr>\n",
       "      <th>1766989</th>\n",
       "      <td>This is a great way to quickly start learning ...</td>\n",
       "      <td>1</td>\n",
       "      <td>this is a great way to quickly start learning ...</td>\n",
       "    </tr>\n",
       "    <tr>\n",
       "      <th>1766990</th>\n",
       "      <td>the 14kt gold earrings look remarkable...would...</td>\n",
       "      <td>1</td>\n",
       "      <td>the kt gold earrings look remarkable...would d...</td>\n",
       "    </tr>\n",
       "    <tr>\n",
       "      <th>1766991</th>\n",
       "      <td>It will be a gift to my special friend. We kno...</td>\n",
       "      <td>1</td>\n",
       "      <td>it will be a gift to my special friend. we kno...</td>\n",
       "    </tr>\n",
       "  </tbody>\n",
       "</table>\n",
       "<p>1794229 rows × 3 columns</p>\n",
       "</div>"
      ],
      "text/plain": [
       "                                                      text  sentiment  \\\n",
       "0                      I`d have responded, if I were going          0   \n",
       "1            Sooo SAD I will miss you here in San Diego!!!         -1   \n",
       "2                                my boss is bullying me...         -1   \n",
       "3                           what interview! leave me alone         -1   \n",
       "4         Sons of ****, why couldn`t they put them on t...         -1   \n",
       "...                                                    ...        ...   \n",
       "1766987  It is nice looking and everything (it is sterl...          1   \n",
       "1766988  my boyfriend bought me this last christmas, an...          1   \n",
       "1766989  This is a great way to quickly start learning ...          1   \n",
       "1766990  the 14kt gold earrings look remarkable...would...          1   \n",
       "1766991  It will be a gift to my special friend. We kno...          1   \n",
       "\n",
       "                                                preprocess  \n",
       "0                      i`d have responded, if i were going  \n",
       "1            sooo sad i will miss you here in san diego!!!  \n",
       "2                                my boss is bullying me...  \n",
       "3                           what interview! leave me alone  \n",
       "4         sons of ****, why couldn`t they put them on t...  \n",
       "...                                                    ...  \n",
       "1766987  it is nice looking and everything (it is sterl...  \n",
       "1766988  my boyfriend bought me this last christmas, an...  \n",
       "1766989  this is a great way to quickly start learning ...  \n",
       "1766990  the kt gold earrings look remarkable...would d...  \n",
       "1766991  it will be a gift to my special friend. we kno...  \n",
       "\n",
       "[1794229 rows x 3 columns]"
      ]
     },
     "execution_count": 276,
     "metadata": {},
     "output_type": "execute_result"
    }
   ],
   "source": [
    "df"
   ]
  },
  {
   "cell_type": "code",
   "execution_count": 277,
   "id": "936490ba",
   "metadata": {},
   "outputs": [
    {
     "name": "stderr",
     "output_type": "stream",
     "text": [
      "C:\\Users\\JBSCHOLOR-2020-18\\AppData\\Local\\Programs\\Python\\Python39\\lib\\site-packages\\bs4\\__init__.py:435: MarkupResemblesLocatorWarning: The input looks more like a filename than markup. You may want to open this file and pass the filehandle into Beautiful Soup.\n",
      "  warnings.warn(\n",
      "C:\\Users\\JBSCHOLOR-2020-18\\AppData\\Local\\Programs\\Python\\Python39\\lib\\site-packages\\bs4\\__init__.py:404: MarkupResemblesLocatorWarning: The input looks more like a URL than markup. You may want to use an HTTP client like requests to get the document behind the URL, and feed that document to Beautiful Soup.\n",
      "  warnings.warn(\n"
     ]
    }
   ],
   "source": [
    "from bs4 import BeautifulSoup\n",
    "df['preprocess']=df['preprocess'].apply(lambda x:BeautifulSoup(x).get_text(strip=True))"
   ]
  },
  {
   "cell_type": "code",
   "execution_count": 278,
   "id": "db612342",
   "metadata": {},
   "outputs": [
    {
     "data": {
      "text/html": [
       "<div>\n",
       "<style scoped>\n",
       "    .dataframe tbody tr th:only-of-type {\n",
       "        vertical-align: middle;\n",
       "    }\n",
       "\n",
       "    .dataframe tbody tr th {\n",
       "        vertical-align: top;\n",
       "    }\n",
       "\n",
       "    .dataframe thead th {\n",
       "        text-align: right;\n",
       "    }\n",
       "</style>\n",
       "<table border=\"1\" class=\"dataframe\">\n",
       "  <thead>\n",
       "    <tr style=\"text-align: right;\">\n",
       "      <th></th>\n",
       "      <th>text</th>\n",
       "      <th>sentiment</th>\n",
       "      <th>preprocess</th>\n",
       "    </tr>\n",
       "  </thead>\n",
       "  <tbody>\n",
       "    <tr>\n",
       "      <th>0</th>\n",
       "      <td>I`d have responded, if I were going</td>\n",
       "      <td>0</td>\n",
       "      <td>i`d have responded, if i were going</td>\n",
       "    </tr>\n",
       "    <tr>\n",
       "      <th>1</th>\n",
       "      <td>Sooo SAD I will miss you here in San Diego!!!</td>\n",
       "      <td>-1</td>\n",
       "      <td>sooo sad i will miss you here in san diego!!!</td>\n",
       "    </tr>\n",
       "    <tr>\n",
       "      <th>2</th>\n",
       "      <td>my boss is bullying me...</td>\n",
       "      <td>-1</td>\n",
       "      <td>my boss is bullying me...</td>\n",
       "    </tr>\n",
       "    <tr>\n",
       "      <th>3</th>\n",
       "      <td>what interview! leave me alone</td>\n",
       "      <td>-1</td>\n",
       "      <td>what interview! leave me alone</td>\n",
       "    </tr>\n",
       "    <tr>\n",
       "      <th>4</th>\n",
       "      <td>Sons of ****, why couldn`t they put them on t...</td>\n",
       "      <td>-1</td>\n",
       "      <td>sons of ****, why couldn`t they put them on th...</td>\n",
       "    </tr>\n",
       "    <tr>\n",
       "      <th>...</th>\n",
       "      <td>...</td>\n",
       "      <td>...</td>\n",
       "      <td>...</td>\n",
       "    </tr>\n",
       "    <tr>\n",
       "      <th>1766987</th>\n",
       "      <td>It is nice looking and everything (it is sterl...</td>\n",
       "      <td>1</td>\n",
       "      <td>it is nice looking and everything (it is sterl...</td>\n",
       "    </tr>\n",
       "    <tr>\n",
       "      <th>1766988</th>\n",
       "      <td>my boyfriend bought me this last christmas, an...</td>\n",
       "      <td>1</td>\n",
       "      <td>my boyfriend bought me this last christmas, an...</td>\n",
       "    </tr>\n",
       "    <tr>\n",
       "      <th>1766989</th>\n",
       "      <td>This is a great way to quickly start learning ...</td>\n",
       "      <td>1</td>\n",
       "      <td>this is a great way to quickly start learning ...</td>\n",
       "    </tr>\n",
       "    <tr>\n",
       "      <th>1766990</th>\n",
       "      <td>the 14kt gold earrings look remarkable...would...</td>\n",
       "      <td>1</td>\n",
       "      <td>the kt gold earrings look remarkable...would d...</td>\n",
       "    </tr>\n",
       "    <tr>\n",
       "      <th>1766991</th>\n",
       "      <td>It will be a gift to my special friend. We kno...</td>\n",
       "      <td>1</td>\n",
       "      <td>it will be a gift to my special friend. we kno...</td>\n",
       "    </tr>\n",
       "  </tbody>\n",
       "</table>\n",
       "<p>1794229 rows × 3 columns</p>\n",
       "</div>"
      ],
      "text/plain": [
       "                                                      text  sentiment  \\\n",
       "0                      I`d have responded, if I were going          0   \n",
       "1            Sooo SAD I will miss you here in San Diego!!!         -1   \n",
       "2                                my boss is bullying me...         -1   \n",
       "3                           what interview! leave me alone         -1   \n",
       "4         Sons of ****, why couldn`t they put them on t...         -1   \n",
       "...                                                    ...        ...   \n",
       "1766987  It is nice looking and everything (it is sterl...          1   \n",
       "1766988  my boyfriend bought me this last christmas, an...          1   \n",
       "1766989  This is a great way to quickly start learning ...          1   \n",
       "1766990  the 14kt gold earrings look remarkable...would...          1   \n",
       "1766991  It will be a gift to my special friend. We kno...          1   \n",
       "\n",
       "                                                preprocess  \n",
       "0                      i`d have responded, if i were going  \n",
       "1            sooo sad i will miss you here in san diego!!!  \n",
       "2                                my boss is bullying me...  \n",
       "3                           what interview! leave me alone  \n",
       "4        sons of ****, why couldn`t they put them on th...  \n",
       "...                                                    ...  \n",
       "1766987  it is nice looking and everything (it is sterl...  \n",
       "1766988  my boyfriend bought me this last christmas, an...  \n",
       "1766989  this is a great way to quickly start learning ...  \n",
       "1766990  the kt gold earrings look remarkable...would d...  \n",
       "1766991  it will be a gift to my special friend. we kno...  \n",
       "\n",
       "[1794229 rows x 3 columns]"
      ]
     },
     "execution_count": 278,
     "metadata": {},
     "output_type": "execute_result"
    }
   ],
   "source": [
    "df"
   ]
  },
  {
   "cell_type": "code",
   "execution_count": 279,
   "id": "5ae36a45",
   "metadata": {},
   "outputs": [],
   "source": [
    "import re\n",
    "df['preprocess']=df['preprocess'].apply(lambda x:re.sub(r\"http\\S+\",\"\",x))"
   ]
  },
  {
   "cell_type": "code",
   "execution_count": 280,
   "id": "69032995",
   "metadata": {},
   "outputs": [],
   "source": [
    "def expand(s):\n",
    "    s=s.replace(r\"`m\",\" am\")\n",
    "    s=s.replace(r\"'m\",\" am\")\n",
    "    s=s.replace(r\"`re\",\" are\")\n",
    "    s=s.replace(r\"'re\",\" are\")\n",
    "    s=s.replace(r\"`s\",\" is\")\n",
    "    s=s.replace(r\"'s\",\" is\")\n",
    "    s=s.replace(r\"`ll\",\" will\")\n",
    "    s=s.replace(r\"'ll\",\" will\")\n",
    "    s=s.replace(r\"won`t\",\"will not\")\n",
    "    s=s.replace(r\"won't\",\"will not\")\n",
    "    s=s.replace(r\"n`t\",\" not\")\n",
    "    s=s.replace(r\"n't\",\" not\")\n",
    "    s=s.replace(r\"`ve\",\" have\")\n",
    "    s=s.replace(r\"'ve\",\" have\")\n",
    "    s=s.replace(r\"`d\",\" would\")\n",
    "    s=s.replace(r\"'d\",\" would\")\n",
    "    return s\n",
    "df['preprocess']=df['preprocess'].apply(lambda x:expand(x))"
   ]
  },
  {
   "cell_type": "code",
   "execution_count": 281,
   "id": "e62e561c",
   "metadata": {},
   "outputs": [
    {
     "data": {
      "text/html": [
       "<div>\n",
       "<style scoped>\n",
       "    .dataframe tbody tr th:only-of-type {\n",
       "        vertical-align: middle;\n",
       "    }\n",
       "\n",
       "    .dataframe tbody tr th {\n",
       "        vertical-align: top;\n",
       "    }\n",
       "\n",
       "    .dataframe thead th {\n",
       "        text-align: right;\n",
       "    }\n",
       "</style>\n",
       "<table border=\"1\" class=\"dataframe\">\n",
       "  <thead>\n",
       "    <tr style=\"text-align: right;\">\n",
       "      <th></th>\n",
       "      <th>text</th>\n",
       "      <th>sentiment</th>\n",
       "      <th>preprocess</th>\n",
       "    </tr>\n",
       "  </thead>\n",
       "  <tbody>\n",
       "    <tr>\n",
       "      <th>0</th>\n",
       "      <td>I`d have responded, if I were going</td>\n",
       "      <td>0</td>\n",
       "      <td>i would have responded, if i were going</td>\n",
       "    </tr>\n",
       "    <tr>\n",
       "      <th>1</th>\n",
       "      <td>Sooo SAD I will miss you here in San Diego!!!</td>\n",
       "      <td>-1</td>\n",
       "      <td>sooo sad i will miss you here in san diego!!!</td>\n",
       "    </tr>\n",
       "    <tr>\n",
       "      <th>2</th>\n",
       "      <td>my boss is bullying me...</td>\n",
       "      <td>-1</td>\n",
       "      <td>my boss is bullying me...</td>\n",
       "    </tr>\n",
       "    <tr>\n",
       "      <th>3</th>\n",
       "      <td>what interview! leave me alone</td>\n",
       "      <td>-1</td>\n",
       "      <td>what interview! leave me alone</td>\n",
       "    </tr>\n",
       "    <tr>\n",
       "      <th>4</th>\n",
       "      <td>Sons of ****, why couldn`t they put them on t...</td>\n",
       "      <td>-1</td>\n",
       "      <td>sons of ****, why could not they put them on t...</td>\n",
       "    </tr>\n",
       "    <tr>\n",
       "      <th>...</th>\n",
       "      <td>...</td>\n",
       "      <td>...</td>\n",
       "      <td>...</td>\n",
       "    </tr>\n",
       "    <tr>\n",
       "      <th>1766987</th>\n",
       "      <td>It is nice looking and everything (it is sterl...</td>\n",
       "      <td>1</td>\n",
       "      <td>it is nice looking and everything (it is sterl...</td>\n",
       "    </tr>\n",
       "    <tr>\n",
       "      <th>1766988</th>\n",
       "      <td>my boyfriend bought me this last christmas, an...</td>\n",
       "      <td>1</td>\n",
       "      <td>my boyfriend bought me this last christmas, an...</td>\n",
       "    </tr>\n",
       "    <tr>\n",
       "      <th>1766989</th>\n",
       "      <td>This is a great way to quickly start learning ...</td>\n",
       "      <td>1</td>\n",
       "      <td>this is a great way to quickly start learning ...</td>\n",
       "    </tr>\n",
       "    <tr>\n",
       "      <th>1766990</th>\n",
       "      <td>the 14kt gold earrings look remarkable...would...</td>\n",
       "      <td>1</td>\n",
       "      <td>the kt gold earrings look remarkable...would d...</td>\n",
       "    </tr>\n",
       "    <tr>\n",
       "      <th>1766991</th>\n",
       "      <td>It will be a gift to my special friend. We kno...</td>\n",
       "      <td>1</td>\n",
       "      <td>it will be a gift to my special friend. we kno...</td>\n",
       "    </tr>\n",
       "  </tbody>\n",
       "</table>\n",
       "<p>1794229 rows × 3 columns</p>\n",
       "</div>"
      ],
      "text/plain": [
       "                                                      text  sentiment  \\\n",
       "0                      I`d have responded, if I were going          0   \n",
       "1            Sooo SAD I will miss you here in San Diego!!!         -1   \n",
       "2                                my boss is bullying me...         -1   \n",
       "3                           what interview! leave me alone         -1   \n",
       "4         Sons of ****, why couldn`t they put them on t...         -1   \n",
       "...                                                    ...        ...   \n",
       "1766987  It is nice looking and everything (it is sterl...          1   \n",
       "1766988  my boyfriend bought me this last christmas, an...          1   \n",
       "1766989  This is a great way to quickly start learning ...          1   \n",
       "1766990  the 14kt gold earrings look remarkable...would...          1   \n",
       "1766991  It will be a gift to my special friend. We kno...          1   \n",
       "\n",
       "                                                preprocess  \n",
       "0                  i would have responded, if i were going  \n",
       "1            sooo sad i will miss you here in san diego!!!  \n",
       "2                                my boss is bullying me...  \n",
       "3                           what interview! leave me alone  \n",
       "4        sons of ****, why could not they put them on t...  \n",
       "...                                                    ...  \n",
       "1766987  it is nice looking and everything (it is sterl...  \n",
       "1766988  my boyfriend bought me this last christmas, an...  \n",
       "1766989  this is a great way to quickly start learning ...  \n",
       "1766990  the kt gold earrings look remarkable...would d...  \n",
       "1766991  it will be a gift to my special friend. we kno...  \n",
       "\n",
       "[1794229 rows x 3 columns]"
      ]
     },
     "execution_count": 281,
     "metadata": {},
     "output_type": "execute_result"
    }
   ],
   "source": [
    "df"
   ]
  },
  {
   "cell_type": "code",
   "execution_count": 282,
   "id": "355423bb",
   "metadata": {},
   "outputs": [],
   "source": [
    "def remove_nonalpha(s):\n",
    "    s2=[]\n",
    "    for x in s:\n",
    "        if((x>='A') and (x<='Z')) or ((x>='a') and (x<='z')) or (x==' '):\n",
    "            s2.append(x)\n",
    "    s=\"\".join(s2)\n",
    "    return s\n",
    "df['preprocess']=df['preprocess'].apply(lambda x:remove_nonalpha(x))"
   ]
  },
  {
   "cell_type": "code",
   "execution_count": 283,
   "id": "8719a8d5",
   "metadata": {},
   "outputs": [
    {
     "data": {
      "text/html": [
       "<div>\n",
       "<style scoped>\n",
       "    .dataframe tbody tr th:only-of-type {\n",
       "        vertical-align: middle;\n",
       "    }\n",
       "\n",
       "    .dataframe tbody tr th {\n",
       "        vertical-align: top;\n",
       "    }\n",
       "\n",
       "    .dataframe thead th {\n",
       "        text-align: right;\n",
       "    }\n",
       "</style>\n",
       "<table border=\"1\" class=\"dataframe\">\n",
       "  <thead>\n",
       "    <tr style=\"text-align: right;\">\n",
       "      <th></th>\n",
       "      <th>text</th>\n",
       "      <th>sentiment</th>\n",
       "      <th>preprocess</th>\n",
       "    </tr>\n",
       "  </thead>\n",
       "  <tbody>\n",
       "    <tr>\n",
       "      <th>0</th>\n",
       "      <td>I`d have responded, if I were going</td>\n",
       "      <td>0</td>\n",
       "      <td>i would have responded if i were going</td>\n",
       "    </tr>\n",
       "    <tr>\n",
       "      <th>1</th>\n",
       "      <td>Sooo SAD I will miss you here in San Diego!!!</td>\n",
       "      <td>-1</td>\n",
       "      <td>sooo sad i will miss you here in san diego</td>\n",
       "    </tr>\n",
       "    <tr>\n",
       "      <th>2</th>\n",
       "      <td>my boss is bullying me...</td>\n",
       "      <td>-1</td>\n",
       "      <td>my boss is bullying me</td>\n",
       "    </tr>\n",
       "    <tr>\n",
       "      <th>3</th>\n",
       "      <td>what interview! leave me alone</td>\n",
       "      <td>-1</td>\n",
       "      <td>what interview leave me alone</td>\n",
       "    </tr>\n",
       "    <tr>\n",
       "      <th>4</th>\n",
       "      <td>Sons of ****, why couldn`t they put them on t...</td>\n",
       "      <td>-1</td>\n",
       "      <td>sons of  why could not they put them on the re...</td>\n",
       "    </tr>\n",
       "    <tr>\n",
       "      <th>...</th>\n",
       "      <td>...</td>\n",
       "      <td>...</td>\n",
       "      <td>...</td>\n",
       "    </tr>\n",
       "    <tr>\n",
       "      <th>1766987</th>\n",
       "      <td>It is nice looking and everything (it is sterl...</td>\n",
       "      <td>1</td>\n",
       "      <td>it is nice looking and everything it is sterli...</td>\n",
       "    </tr>\n",
       "    <tr>\n",
       "      <th>1766988</th>\n",
       "      <td>my boyfriend bought me this last christmas, an...</td>\n",
       "      <td>1</td>\n",
       "      <td>my boyfriend bought me this last christmas and...</td>\n",
       "    </tr>\n",
       "    <tr>\n",
       "      <th>1766989</th>\n",
       "      <td>This is a great way to quickly start learning ...</td>\n",
       "      <td>1</td>\n",
       "      <td>this is a great way to quickly start learning ...</td>\n",
       "    </tr>\n",
       "    <tr>\n",
       "      <th>1766990</th>\n",
       "      <td>the 14kt gold earrings look remarkable...would...</td>\n",
       "      <td>1</td>\n",
       "      <td>the kt gold earrings look remarkablewould defi...</td>\n",
       "    </tr>\n",
       "    <tr>\n",
       "      <th>1766991</th>\n",
       "      <td>It will be a gift to my special friend. We kno...</td>\n",
       "      <td>1</td>\n",
       "      <td>it will be a gift to my special friend we know...</td>\n",
       "    </tr>\n",
       "  </tbody>\n",
       "</table>\n",
       "<p>1794229 rows × 3 columns</p>\n",
       "</div>"
      ],
      "text/plain": [
       "                                                      text  sentiment  \\\n",
       "0                      I`d have responded, if I were going          0   \n",
       "1            Sooo SAD I will miss you here in San Diego!!!         -1   \n",
       "2                                my boss is bullying me...         -1   \n",
       "3                           what interview! leave me alone         -1   \n",
       "4         Sons of ****, why couldn`t they put them on t...         -1   \n",
       "...                                                    ...        ...   \n",
       "1766987  It is nice looking and everything (it is sterl...          1   \n",
       "1766988  my boyfriend bought me this last christmas, an...          1   \n",
       "1766989  This is a great way to quickly start learning ...          1   \n",
       "1766990  the 14kt gold earrings look remarkable...would...          1   \n",
       "1766991  It will be a gift to my special friend. We kno...          1   \n",
       "\n",
       "                                                preprocess  \n",
       "0                   i would have responded if i were going  \n",
       "1               sooo sad i will miss you here in san diego  \n",
       "2                                   my boss is bullying me  \n",
       "3                            what interview leave me alone  \n",
       "4        sons of  why could not they put them on the re...  \n",
       "...                                                    ...  \n",
       "1766987  it is nice looking and everything it is sterli...  \n",
       "1766988  my boyfriend bought me this last christmas and...  \n",
       "1766989  this is a great way to quickly start learning ...  \n",
       "1766990  the kt gold earrings look remarkablewould defi...  \n",
       "1766991  it will be a gift to my special friend we know...  \n",
       "\n",
       "[1794229 rows x 3 columns]"
      ]
     },
     "execution_count": 283,
     "metadata": {},
     "output_type": "execute_result"
    }
   ],
   "source": [
    "df"
   ]
  },
  {
   "cell_type": "code",
   "execution_count": 284,
   "id": "fcb6f22d",
   "metadata": {},
   "outputs": [],
   "source": [
    "df['preprocess']=df['preprocess'].apply(lambda x:re.sub(\" \\s+\",\" \",x))"
   ]
  },
  {
   "cell_type": "code",
   "execution_count": 285,
   "id": "3e4b8dbc",
   "metadata": {},
   "outputs": [
    {
     "data": {
      "text/html": [
       "<div>\n",
       "<style scoped>\n",
       "    .dataframe tbody tr th:only-of-type {\n",
       "        vertical-align: middle;\n",
       "    }\n",
       "\n",
       "    .dataframe tbody tr th {\n",
       "        vertical-align: top;\n",
       "    }\n",
       "\n",
       "    .dataframe thead th {\n",
       "        text-align: right;\n",
       "    }\n",
       "</style>\n",
       "<table border=\"1\" class=\"dataframe\">\n",
       "  <thead>\n",
       "    <tr style=\"text-align: right;\">\n",
       "      <th></th>\n",
       "      <th>text</th>\n",
       "      <th>sentiment</th>\n",
       "      <th>preprocess</th>\n",
       "    </tr>\n",
       "  </thead>\n",
       "  <tbody>\n",
       "    <tr>\n",
       "      <th>0</th>\n",
       "      <td>I`d have responded, if I were going</td>\n",
       "      <td>0</td>\n",
       "      <td>i would have responded if i were going</td>\n",
       "    </tr>\n",
       "    <tr>\n",
       "      <th>1</th>\n",
       "      <td>Sooo SAD I will miss you here in San Diego!!!</td>\n",
       "      <td>-1</td>\n",
       "      <td>sooo sad i will miss you here in san diego</td>\n",
       "    </tr>\n",
       "    <tr>\n",
       "      <th>2</th>\n",
       "      <td>my boss is bullying me...</td>\n",
       "      <td>-1</td>\n",
       "      <td>my boss is bullying me</td>\n",
       "    </tr>\n",
       "    <tr>\n",
       "      <th>3</th>\n",
       "      <td>what interview! leave me alone</td>\n",
       "      <td>-1</td>\n",
       "      <td>what interview leave me alone</td>\n",
       "    </tr>\n",
       "    <tr>\n",
       "      <th>4</th>\n",
       "      <td>Sons of ****, why couldn`t they put them on t...</td>\n",
       "      <td>-1</td>\n",
       "      <td>sons of why could not they put them on the rel...</td>\n",
       "    </tr>\n",
       "    <tr>\n",
       "      <th>...</th>\n",
       "      <td>...</td>\n",
       "      <td>...</td>\n",
       "      <td>...</td>\n",
       "    </tr>\n",
       "    <tr>\n",
       "      <th>1766987</th>\n",
       "      <td>It is nice looking and everything (it is sterl...</td>\n",
       "      <td>1</td>\n",
       "      <td>it is nice looking and everything it is sterli...</td>\n",
       "    </tr>\n",
       "    <tr>\n",
       "      <th>1766988</th>\n",
       "      <td>my boyfriend bought me this last christmas, an...</td>\n",
       "      <td>1</td>\n",
       "      <td>my boyfriend bought me this last christmas and...</td>\n",
       "    </tr>\n",
       "    <tr>\n",
       "      <th>1766989</th>\n",
       "      <td>This is a great way to quickly start learning ...</td>\n",
       "      <td>1</td>\n",
       "      <td>this is a great way to quickly start learning ...</td>\n",
       "    </tr>\n",
       "    <tr>\n",
       "      <th>1766990</th>\n",
       "      <td>the 14kt gold earrings look remarkable...would...</td>\n",
       "      <td>1</td>\n",
       "      <td>the kt gold earrings look remarkablewould defi...</td>\n",
       "    </tr>\n",
       "    <tr>\n",
       "      <th>1766991</th>\n",
       "      <td>It will be a gift to my special friend. We kno...</td>\n",
       "      <td>1</td>\n",
       "      <td>it will be a gift to my special friend we know...</td>\n",
       "    </tr>\n",
       "  </tbody>\n",
       "</table>\n",
       "<p>1794229 rows × 3 columns</p>\n",
       "</div>"
      ],
      "text/plain": [
       "                                                      text  sentiment  \\\n",
       "0                      I`d have responded, if I were going          0   \n",
       "1            Sooo SAD I will miss you here in San Diego!!!         -1   \n",
       "2                                my boss is bullying me...         -1   \n",
       "3                           what interview! leave me alone         -1   \n",
       "4         Sons of ****, why couldn`t they put them on t...         -1   \n",
       "...                                                    ...        ...   \n",
       "1766987  It is nice looking and everything (it is sterl...          1   \n",
       "1766988  my boyfriend bought me this last christmas, an...          1   \n",
       "1766989  This is a great way to quickly start learning ...          1   \n",
       "1766990  the 14kt gold earrings look remarkable...would...          1   \n",
       "1766991  It will be a gift to my special friend. We kno...          1   \n",
       "\n",
       "                                                preprocess  \n",
       "0                   i would have responded if i were going  \n",
       "1               sooo sad i will miss you here in san diego  \n",
       "2                                   my boss is bullying me  \n",
       "3                            what interview leave me alone  \n",
       "4        sons of why could not they put them on the rel...  \n",
       "...                                                    ...  \n",
       "1766987  it is nice looking and everything it is sterli...  \n",
       "1766988  my boyfriend bought me this last christmas and...  \n",
       "1766989  this is a great way to quickly start learning ...  \n",
       "1766990  the kt gold earrings look remarkablewould defi...  \n",
       "1766991  it will be a gift to my special friend we know...  \n",
       "\n",
       "[1794229 rows x 3 columns]"
      ]
     },
     "execution_count": 285,
     "metadata": {},
     "output_type": "execute_result"
    }
   ],
   "source": [
    "df"
   ]
  },
  {
   "cell_type": "code",
   "execution_count": 286,
   "id": "7e6c0d01",
   "metadata": {},
   "outputs": [],
   "source": [
    "from nltk.corpus import stopwords, wordnet\n",
    "negation=['nor','no','not']\n",
    "important=['but','against','between','too','just','more','most','than']\n",
    "stop_words=set(stopwords.words('english'))\n",
    "def remove_stop_words(s):\n",
    "    s2=[]\n",
    "    opposite=False\n",
    "    for x in s.split():\n",
    "        if (x not in stop_words):\n",
    "            if opposite:\n",
    "                syns=wordnet.synsets(x)\n",
    "                flag=False\n",
    "                for syn in wordnet.synsets(\"good\"):\n",
    "                    for l in syn.lemmas():\n",
    "                        if l.antonyms():\n",
    "                            s2.append(l.antonyms()[0].name())\n",
    "                            flag =True\n",
    "                            break\n",
    "                    if(flag):\n",
    "                        break\n",
    "                opposite=False\n",
    "            else:\n",
    "                s2.append(x)\n",
    "        elif (x in negation):\n",
    "            opposite=True\n",
    "        elif (x in important):\n",
    "            s2.append(x)\n",
    "    s=\" \".join(s2)\n",
    "    return s\n",
    "df['preprocess']=df['preprocess'].apply(lambda x:remove_stop_words(x))"
   ]
  },
  {
   "cell_type": "code",
   "execution_count": 287,
   "id": "0bc200a0",
   "metadata": {},
   "outputs": [
    {
     "data": {
      "text/html": [
       "<div>\n",
       "<style scoped>\n",
       "    .dataframe tbody tr th:only-of-type {\n",
       "        vertical-align: middle;\n",
       "    }\n",
       "\n",
       "    .dataframe tbody tr th {\n",
       "        vertical-align: top;\n",
       "    }\n",
       "\n",
       "    .dataframe thead th {\n",
       "        text-align: right;\n",
       "    }\n",
       "</style>\n",
       "<table border=\"1\" class=\"dataframe\">\n",
       "  <thead>\n",
       "    <tr style=\"text-align: right;\">\n",
       "      <th></th>\n",
       "      <th>text</th>\n",
       "      <th>sentiment</th>\n",
       "      <th>preprocess</th>\n",
       "    </tr>\n",
       "  </thead>\n",
       "  <tbody>\n",
       "    <tr>\n",
       "      <th>0</th>\n",
       "      <td>I`d have responded, if I were going</td>\n",
       "      <td>0</td>\n",
       "      <td>would responded going</td>\n",
       "    </tr>\n",
       "    <tr>\n",
       "      <th>1</th>\n",
       "      <td>Sooo SAD I will miss you here in San Diego!!!</td>\n",
       "      <td>-1</td>\n",
       "      <td>sooo sad miss san diego</td>\n",
       "    </tr>\n",
       "    <tr>\n",
       "      <th>2</th>\n",
       "      <td>my boss is bullying me...</td>\n",
       "      <td>-1</td>\n",
       "      <td>boss bullying</td>\n",
       "    </tr>\n",
       "    <tr>\n",
       "      <th>3</th>\n",
       "      <td>what interview! leave me alone</td>\n",
       "      <td>-1</td>\n",
       "      <td>interview leave alone</td>\n",
       "    </tr>\n",
       "    <tr>\n",
       "      <th>4</th>\n",
       "      <td>Sons of ****, why couldn`t they put them on t...</td>\n",
       "      <td>-1</td>\n",
       "      <td>sons could evil releases already bought</td>\n",
       "    </tr>\n",
       "    <tr>\n",
       "      <th>...</th>\n",
       "      <td>...</td>\n",
       "      <td>...</td>\n",
       "      <td>...</td>\n",
       "    </tr>\n",
       "    <tr>\n",
       "      <th>1766987</th>\n",
       "      <td>It is nice looking and everything (it is sterl...</td>\n",
       "      <td>1</td>\n",
       "      <td>nice looking everything sterling silver but th...</td>\n",
       "    </tr>\n",
       "    <tr>\n",
       "      <th>1766988</th>\n",
       "      <td>my boyfriend bought me this last christmas, an...</td>\n",
       "      <td>1</td>\n",
       "      <td>boyfriend bought last christmas worn every day...</td>\n",
       "    </tr>\n",
       "    <tr>\n",
       "      <th>1766989</th>\n",
       "      <td>This is a great way to quickly start learning ...</td>\n",
       "      <td>1</td>\n",
       "      <td>great way quickly start learning play country ...</td>\n",
       "    </tr>\n",
       "    <tr>\n",
       "      <th>1766990</th>\n",
       "      <td>the 14kt gold earrings look remarkable...would...</td>\n",
       "      <td>1</td>\n",
       "      <td>kt gold earrings look remarkablewould defintel...</td>\n",
       "    </tr>\n",
       "    <tr>\n",
       "      <th>1766991</th>\n",
       "      <td>It will be a gift to my special friend. We kno...</td>\n",
       "      <td>1</td>\n",
       "      <td>gift special friend know long time but evil pr...</td>\n",
       "    </tr>\n",
       "  </tbody>\n",
       "</table>\n",
       "<p>1794229 rows × 3 columns</p>\n",
       "</div>"
      ],
      "text/plain": [
       "                                                      text  sentiment  \\\n",
       "0                      I`d have responded, if I were going          0   \n",
       "1            Sooo SAD I will miss you here in San Diego!!!         -1   \n",
       "2                                my boss is bullying me...         -1   \n",
       "3                           what interview! leave me alone         -1   \n",
       "4         Sons of ****, why couldn`t they put them on t...         -1   \n",
       "...                                                    ...        ...   \n",
       "1766987  It is nice looking and everything (it is sterl...          1   \n",
       "1766988  my boyfriend bought me this last christmas, an...          1   \n",
       "1766989  This is a great way to quickly start learning ...          1   \n",
       "1766990  the 14kt gold earrings look remarkable...would...          1   \n",
       "1766991  It will be a gift to my special friend. We kno...          1   \n",
       "\n",
       "                                                preprocess  \n",
       "0                                    would responded going  \n",
       "1                                  sooo sad miss san diego  \n",
       "2                                            boss bullying  \n",
       "3                                    interview leave alone  \n",
       "4                  sons could evil releases already bought  \n",
       "...                                                    ...  \n",
       "1766987  nice looking everything sterling silver but th...  \n",
       "1766988  boyfriend bought last christmas worn every day...  \n",
       "1766989  great way quickly start learning play country ...  \n",
       "1766990  kt gold earrings look remarkablewould defintel...  \n",
       "1766991  gift special friend know long time but evil pr...  \n",
       "\n",
       "[1794229 rows x 3 columns]"
      ]
     },
     "execution_count": 287,
     "metadata": {},
     "output_type": "execute_result"
    }
   ],
   "source": [
    "df"
   ]
  },
  {
   "cell_type": "code",
   "execution_count": 288,
   "id": "8834b09d",
   "metadata": {},
   "outputs": [],
   "source": [
    "from nltk.stem import WordNetLemmatizer\n",
    "def lemmatize(s):\n",
    "    s2=[]\n",
    "    lemma=WordNetLemmatizer()\n",
    "    for x in s.split():\n",
    "        s2.append(lemma.lemmatize(x))\n",
    "    s=\" \".join(s2)\n",
    "    return s\n",
    "df['preprocess']=df['preprocess'].apply(lambda x:lemmatize(x))"
   ]
  },
  {
   "cell_type": "code",
   "execution_count": 289,
   "id": "cf84331a",
   "metadata": {},
   "outputs": [
    {
     "data": {
      "text/html": [
       "<div>\n",
       "<style scoped>\n",
       "    .dataframe tbody tr th:only-of-type {\n",
       "        vertical-align: middle;\n",
       "    }\n",
       "\n",
       "    .dataframe tbody tr th {\n",
       "        vertical-align: top;\n",
       "    }\n",
       "\n",
       "    .dataframe thead th {\n",
       "        text-align: right;\n",
       "    }\n",
       "</style>\n",
       "<table border=\"1\" class=\"dataframe\">\n",
       "  <thead>\n",
       "    <tr style=\"text-align: right;\">\n",
       "      <th></th>\n",
       "      <th>text</th>\n",
       "      <th>sentiment</th>\n",
       "      <th>preprocess</th>\n",
       "    </tr>\n",
       "  </thead>\n",
       "  <tbody>\n",
       "    <tr>\n",
       "      <th>0</th>\n",
       "      <td>I`d have responded, if I were going</td>\n",
       "      <td>0</td>\n",
       "      <td>would responded going</td>\n",
       "    </tr>\n",
       "    <tr>\n",
       "      <th>1</th>\n",
       "      <td>Sooo SAD I will miss you here in San Diego!!!</td>\n",
       "      <td>-1</td>\n",
       "      <td>sooo sad miss san diego</td>\n",
       "    </tr>\n",
       "    <tr>\n",
       "      <th>2</th>\n",
       "      <td>my boss is bullying me...</td>\n",
       "      <td>-1</td>\n",
       "      <td>bos bullying</td>\n",
       "    </tr>\n",
       "    <tr>\n",
       "      <th>3</th>\n",
       "      <td>what interview! leave me alone</td>\n",
       "      <td>-1</td>\n",
       "      <td>interview leave alone</td>\n",
       "    </tr>\n",
       "    <tr>\n",
       "      <th>4</th>\n",
       "      <td>Sons of ****, why couldn`t they put them on t...</td>\n",
       "      <td>-1</td>\n",
       "      <td>son could evil release already bought</td>\n",
       "    </tr>\n",
       "    <tr>\n",
       "      <th>...</th>\n",
       "      <td>...</td>\n",
       "      <td>...</td>\n",
       "      <td>...</td>\n",
       "    </tr>\n",
       "    <tr>\n",
       "      <th>1766987</th>\n",
       "      <td>It is nice looking and everything (it is sterl...</td>\n",
       "      <td>1</td>\n",
       "      <td>nice looking everything sterling silver but th...</td>\n",
       "    </tr>\n",
       "    <tr>\n",
       "      <th>1766988</th>\n",
       "      <td>my boyfriend bought me this last christmas, an...</td>\n",
       "      <td>1</td>\n",
       "      <td>boyfriend bought last christmas worn every day...</td>\n",
       "    </tr>\n",
       "    <tr>\n",
       "      <th>1766989</th>\n",
       "      <td>This is a great way to quickly start learning ...</td>\n",
       "      <td>1</td>\n",
       "      <td>great way quickly start learning play country ...</td>\n",
       "    </tr>\n",
       "    <tr>\n",
       "      <th>1766990</th>\n",
       "      <td>the 14kt gold earrings look remarkable...would...</td>\n",
       "      <td>1</td>\n",
       "      <td>kt gold earring look remarkablewould defintely...</td>\n",
       "    </tr>\n",
       "    <tr>\n",
       "      <th>1766991</th>\n",
       "      <td>It will be a gift to my special friend. We kno...</td>\n",
       "      <td>1</td>\n",
       "      <td>gift special friend know long time but evil pr...</td>\n",
       "    </tr>\n",
       "  </tbody>\n",
       "</table>\n",
       "<p>1794229 rows × 3 columns</p>\n",
       "</div>"
      ],
      "text/plain": [
       "                                                      text  sentiment  \\\n",
       "0                      I`d have responded, if I were going          0   \n",
       "1            Sooo SAD I will miss you here in San Diego!!!         -1   \n",
       "2                                my boss is bullying me...         -1   \n",
       "3                           what interview! leave me alone         -1   \n",
       "4         Sons of ****, why couldn`t they put them on t...         -1   \n",
       "...                                                    ...        ...   \n",
       "1766987  It is nice looking and everything (it is sterl...          1   \n",
       "1766988  my boyfriend bought me this last christmas, an...          1   \n",
       "1766989  This is a great way to quickly start learning ...          1   \n",
       "1766990  the 14kt gold earrings look remarkable...would...          1   \n",
       "1766991  It will be a gift to my special friend. We kno...          1   \n",
       "\n",
       "                                                preprocess  \n",
       "0                                    would responded going  \n",
       "1                                  sooo sad miss san diego  \n",
       "2                                             bos bullying  \n",
       "3                                    interview leave alone  \n",
       "4                    son could evil release already bought  \n",
       "...                                                    ...  \n",
       "1766987  nice looking everything sterling silver but th...  \n",
       "1766988  boyfriend bought last christmas worn every day...  \n",
       "1766989  great way quickly start learning play country ...  \n",
       "1766990  kt gold earring look remarkablewould defintely...  \n",
       "1766991  gift special friend know long time but evil pr...  \n",
       "\n",
       "[1794229 rows x 3 columns]"
      ]
     },
     "execution_count": 289,
     "metadata": {},
     "output_type": "execute_result"
    }
   ],
   "source": [
    "df"
   ]
  },
  {
   "cell_type": "code",
   "execution_count": 290,
   "id": "92267ec2",
   "metadata": {},
   "outputs": [],
   "source": [
    "dataset=df['preprocess'].tolist()"
   ]
  },
  {
   "cell_type": "code",
   "execution_count": 291,
   "id": "a29b631f",
   "metadata": {},
   "outputs": [],
   "source": [
    "from sklearn.model_selection import train_test_split\n",
    "X_train, X_test, y_train, y_test = train_test_split(df['preprocess'], df['sentiment'], test_size=0.2)"
   ]
  },
  {
   "cell_type": "code",
   "execution_count": 292,
   "id": "79a45f7d",
   "metadata": {},
   "outputs": [],
   "source": [
    "from sklearn.feature_extraction.text import TfidfVectorizer\n",
    "vectorizer= TfidfVectorizer()\n",
    "tf_x_train = vectorizer.fit_transform(X_train)\n",
    "tf_x_test = vectorizer.transform(X_test)"
   ]
  },
  {
   "cell_type": "code",
   "execution_count": 293,
   "id": "c620e6fb",
   "metadata": {},
   "outputs": [
    {
     "data": {
      "text/html": [
       "<style>#sk-container-id-7 {color: black;background-color: white;}#sk-container-id-7 pre{padding: 0;}#sk-container-id-7 div.sk-toggleable {background-color: white;}#sk-container-id-7 label.sk-toggleable__label {cursor: pointer;display: block;width: 100%;margin-bottom: 0;padding: 0.3em;box-sizing: border-box;text-align: center;}#sk-container-id-7 label.sk-toggleable__label-arrow:before {content: \"▸\";float: left;margin-right: 0.25em;color: #696969;}#sk-container-id-7 label.sk-toggleable__label-arrow:hover:before {color: black;}#sk-container-id-7 div.sk-estimator:hover label.sk-toggleable__label-arrow:before {color: black;}#sk-container-id-7 div.sk-toggleable__content {max-height: 0;max-width: 0;overflow: hidden;text-align: left;background-color: #f0f8ff;}#sk-container-id-7 div.sk-toggleable__content pre {margin: 0.2em;color: black;border-radius: 0.25em;background-color: #f0f8ff;}#sk-container-id-7 input.sk-toggleable__control:checked~div.sk-toggleable__content {max-height: 200px;max-width: 100%;overflow: auto;}#sk-container-id-7 input.sk-toggleable__control:checked~label.sk-toggleable__label-arrow:before {content: \"▾\";}#sk-container-id-7 div.sk-estimator input.sk-toggleable__control:checked~label.sk-toggleable__label {background-color: #d4ebff;}#sk-container-id-7 div.sk-label input.sk-toggleable__control:checked~label.sk-toggleable__label {background-color: #d4ebff;}#sk-container-id-7 input.sk-hidden--visually {border: 0;clip: rect(1px 1px 1px 1px);clip: rect(1px, 1px, 1px, 1px);height: 1px;margin: -1px;overflow: hidden;padding: 0;position: absolute;width: 1px;}#sk-container-id-7 div.sk-estimator {font-family: monospace;background-color: #f0f8ff;border: 1px dotted black;border-radius: 0.25em;box-sizing: border-box;margin-bottom: 0.5em;}#sk-container-id-7 div.sk-estimator:hover {background-color: #d4ebff;}#sk-container-id-7 div.sk-parallel-item::after {content: \"\";width: 100%;border-bottom: 1px solid gray;flex-grow: 1;}#sk-container-id-7 div.sk-label:hover label.sk-toggleable__label {background-color: #d4ebff;}#sk-container-id-7 div.sk-serial::before {content: \"\";position: absolute;border-left: 1px solid gray;box-sizing: border-box;top: 0;bottom: 0;left: 50%;z-index: 0;}#sk-container-id-7 div.sk-serial {display: flex;flex-direction: column;align-items: center;background-color: white;padding-right: 0.2em;padding-left: 0.2em;position: relative;}#sk-container-id-7 div.sk-item {position: relative;z-index: 1;}#sk-container-id-7 div.sk-parallel {display: flex;align-items: stretch;justify-content: center;background-color: white;position: relative;}#sk-container-id-7 div.sk-item::before, #sk-container-id-7 div.sk-parallel-item::before {content: \"\";position: absolute;border-left: 1px solid gray;box-sizing: border-box;top: 0;bottom: 0;left: 50%;z-index: -1;}#sk-container-id-7 div.sk-parallel-item {display: flex;flex-direction: column;z-index: 1;position: relative;background-color: white;}#sk-container-id-7 div.sk-parallel-item:first-child::after {align-self: flex-end;width: 50%;}#sk-container-id-7 div.sk-parallel-item:last-child::after {align-self: flex-start;width: 50%;}#sk-container-id-7 div.sk-parallel-item:only-child::after {width: 0;}#sk-container-id-7 div.sk-dashed-wrapped {border: 1px dashed gray;margin: 0 0.4em 0.5em 0.4em;box-sizing: border-box;padding-bottom: 0.4em;background-color: white;}#sk-container-id-7 div.sk-label label {font-family: monospace;font-weight: bold;display: inline-block;line-height: 1.2em;}#sk-container-id-7 div.sk-label-container {text-align: center;}#sk-container-id-7 div.sk-container {/* jupyter's `normalize.less` sets `[hidden] { display: none; }` but bootstrap.min.css set `[hidden] { display: none !important; }` so we also need the `!important` here to be able to override the default hidden behavior on the sphinx rendered scikit-learn.org. See: https://github.com/scikit-learn/scikit-learn/issues/21755 */display: inline-block !important;position: relative;}#sk-container-id-7 div.sk-text-repr-fallback {display: none;}</style><div id=\"sk-container-id-7\" class=\"sk-top-container\"><div class=\"sk-text-repr-fallback\"><pre>LogisticRegression(max_iter=1000, solver=&#x27;saga&#x27;)</pre><b>In a Jupyter environment, please rerun this cell to show the HTML representation or trust the notebook. <br />On GitHub, the HTML representation is unable to render, please try loading this page with nbviewer.org.</b></div><div class=\"sk-container\" hidden><div class=\"sk-item\"><div class=\"sk-estimator sk-toggleable\"><input class=\"sk-toggleable__control sk-hidden--visually\" id=\"sk-estimator-id-7\" type=\"checkbox\" checked><label for=\"sk-estimator-id-7\" class=\"sk-toggleable__label sk-toggleable__label-arrow\">LogisticRegression</label><div class=\"sk-toggleable__content\"><pre>LogisticRegression(max_iter=1000, solver=&#x27;saga&#x27;)</pre></div></div></div></div></div>"
      ],
      "text/plain": [
       "LogisticRegression(max_iter=1000, solver='saga')"
      ]
     },
     "execution_count": 293,
     "metadata": {},
     "output_type": "execute_result"
    }
   ],
   "source": [
    "from sklearn.linear_model import LogisticRegression\n",
    "classifier = LogisticRegression(max_iter=1000,solver='saga')\n",
    "classifier.fit(tf_x_train, y_train)"
   ]
  },
  {
   "cell_type": "code",
   "execution_count": 294,
   "id": "bf6f2abf",
   "metadata": {},
   "outputs": [],
   "source": [
    "y_pred = classifier.predict(tf_x_test)"
   ]
  },
  {
   "cell_type": "code",
   "execution_count": 295,
   "id": "6ded7713",
   "metadata": {},
   "outputs": [
    {
     "name": "stdout",
     "output_type": "stream",
     "text": [
      "Accuracy :  0.8658365984294099\n"
     ]
    }
   ],
   "source": [
    "from sklearn.metrics import accuracy_score\n",
    "print (\"Accuracy : \", accuracy_score(y_test, y_pred))"
   ]
  },
  {
   "cell_type": "code",
   "execution_count": 296,
   "id": "268a66c1",
   "metadata": {},
   "outputs": [
    {
     "data": {
      "text/plain": [
       "870080     1\n",
       "25830      0\n",
       "1440149    1\n",
       "967981     1\n",
       "1038580    0\n",
       "          ..\n",
       "870965     1\n",
       "1725809    1\n",
       "1598322   -1\n",
       "1379418    1\n",
       "500655     1\n",
       "Name: sentiment, Length: 358846, dtype: int64"
      ]
     },
     "execution_count": 296,
     "metadata": {},
     "output_type": "execute_result"
    }
   ],
   "source": [
    "y_test"
   ]
  },
  {
   "cell_type": "code",
   "execution_count": 297,
   "id": "bd1a83ba",
   "metadata": {},
   "outputs": [
    {
     "data": {
      "text/plain": [
       "array([ 1, -1,  1, ..., -1,  1,  1], dtype=int64)"
      ]
     },
     "execution_count": 297,
     "metadata": {},
     "output_type": "execute_result"
    }
   ],
   "source": [
    "y_pred"
   ]
  },
  {
   "cell_type": "code",
   "execution_count": 298,
   "id": "d2ceaa85",
   "metadata": {},
   "outputs": [],
   "source": [
    "sentence=[\"I am bad\",\"I am good\",\"I am okay\"]\n",
    "tfs=vectorizer.transform(sentence)"
   ]
  },
  {
   "cell_type": "code",
   "execution_count": 299,
   "id": "0202781a",
   "metadata": {},
   "outputs": [
    {
     "data": {
      "text/plain": [
       "array([-1,  1,  0], dtype=int64)"
      ]
     },
     "execution_count": 299,
     "metadata": {},
     "output_type": "execute_result"
    }
   ],
   "source": [
    "y=classifier.predict(tfs)\n",
    "y"
   ]
  },
  {
   "cell_type": "code",
   "execution_count": 300,
   "id": "1dc67cf9",
   "metadata": {},
   "outputs": [
    {
     "data": {
      "text/plain": [
       "['model.pkl']"
      ]
     },
     "execution_count": 300,
     "metadata": {},
     "output_type": "execute_result"
    }
   ],
   "source": [
    "from joblib import Parallel,delayed\n",
    "import joblib\n",
    "joblib.dump(classifier,'model.pkl')"
   ]
  },
  {
   "cell_type": "code",
   "execution_count": 301,
   "id": "5b4fe57a",
   "metadata": {},
   "outputs": [],
   "source": [
    "df.to_csv(\"preprocessed.csv\")"
   ]
  },
  {
   "cell_type": "code",
   "execution_count": 302,
   "id": "ec6d6c28",
   "metadata": {},
   "outputs": [],
   "source": [
    "import pickle\n",
    "pickle.dump(tf_x_train,open(\"features.pickle\",\"wb\"))"
   ]
  },
  {
   "cell_type": "code",
   "execution_count": 303,
   "id": "2e00caf0",
   "metadata": {},
   "outputs": [
    {
     "data": {
      "text/plain": [
       "<1435383x243425 sparse matrix of type '<class 'numpy.float64'>'\n",
       "\twith 20984808 stored elements in Compressed Sparse Row format>"
      ]
     },
     "execution_count": 303,
     "metadata": {},
     "output_type": "execute_result"
    }
   ],
   "source": [
    "tf_x_train"
   ]
  },
  {
   "cell_type": "code",
   "execution_count": 304,
   "id": "2a6f12d4",
   "metadata": {},
   "outputs": [
    {
     "data": {
      "text/plain": [
       "(3, 243425)"
      ]
     },
     "execution_count": 304,
     "metadata": {},
     "output_type": "execute_result"
    }
   ],
   "source": [
    "tfs.shape"
   ]
  },
  {
   "cell_type": "code",
   "execution_count": 305,
   "id": "67209d97",
   "metadata": {},
   "outputs": [
    {
     "data": {
      "text/plain": [
       "(1435383, 243425)"
      ]
     },
     "execution_count": 305,
     "metadata": {},
     "output_type": "execute_result"
    }
   ],
   "source": [
    "tf_x_train.shape"
   ]
  },
  {
   "cell_type": "code",
   "execution_count": 306,
   "id": "43fd1b15",
   "metadata": {},
   "outputs": [
    {
     "data": {
      "text/plain": [
       "['vectorizer.pkl']"
      ]
     },
     "execution_count": 306,
     "metadata": {},
     "output_type": "execute_result"
    }
   ],
   "source": [
    "import joblib\n",
    "joblib.dump(vectorizer,'vectorizer.pkl')"
   ]
  },
  {
   "cell_type": "code",
   "execution_count": null,
   "id": "168ffa47",
   "metadata": {},
   "outputs": [],
   "source": []
  }
 ],
 "metadata": {
  "kernelspec": {
   "display_name": "Python 3 (ipykernel)",
   "language": "python",
   "name": "python3"
  },
  "language_info": {
   "codemirror_mode": {
    "name": "ipython",
    "version": 3
   },
   "file_extension": ".py",
   "mimetype": "text/x-python",
   "name": "python",
   "nbconvert_exporter": "python",
   "pygments_lexer": "ipython3",
   "version": "3.9.7"
  }
 },
 "nbformat": 4,
 "nbformat_minor": 5
}
